{
  "nbformat": 4,
  "nbformat_minor": 0,
  "metadata": {
    "colab": {
      "provenance": []
    },
    "kernelspec": {
      "name": "python3",
      "display_name": "Python 3"
    },
    "language_info": {
      "name": "python"
    }
  },
  "cells": [
    {
      "cell_type": "markdown",
      "source": [
        "🌟 **Exercise 6 (optional)** : Visualizing Predictions on the MNIST Dataset"
      ],
      "metadata": {
        "id": "XcJ0q65cyhCv"
      }
    },
    {
      "cell_type": "markdown",
      "source": [
        "Train a simple neural network using TensorFlow/Keras on the MNIST dataset. After training, visualize some of the predictions made by the model.\n",
        "\n",
        "**Dataset:** The MNIST dataset is included in TensorFlow/Keras.\n",
        "\n",
        "**Here are the steps for this exercise :**"
      ],
      "metadata": {
        "id": "VyakAxXjyn0p"
      }
    },
    {
      "cell_type": "markdown",
      "source": [
        "0. **Import Required Libraries :** Import TensorFlow, NumPy, Matplotlib, and other necessary Keras modules."
      ],
      "metadata": {
        "id": "lpb47Wruywbn"
      }
    },
    {
      "cell_type": "code",
      "execution_count": 1,
      "metadata": {
        "id": "mQ_KW_RWyd7v"
      },
      "outputs": [],
      "source": [
        "import tensorflow as tf\n",
        "from tensorflow import keras\n",
        "import numpy as np\n",
        "import matplotlib.pyplot as plt"
      ]
    },
    {
      "cell_type": "markdown",
      "source": [
        "1. **Load the MNIST dataset**"
      ],
      "metadata": {
        "id": "NDReAWKGzOB2"
      }
    },
    {
      "cell_type": "code",
      "source": [
        "(x_train, y_train), (x_test, y_test) = keras.datasets.mnist.load_data()"
      ],
      "metadata": {
        "id": "dWCVJ5xzzClh"
      },
      "execution_count": 2,
      "outputs": []
    },
    {
      "cell_type": "markdown",
      "source": [
        "2. **Normalize the data :** Scale the pixel values to the range [0, 1]."
      ],
      "metadata": {
        "id": "sVLoLP470NIx"
      }
    },
    {
      "cell_type": "code",
      "source": [
        "x_train = tf.cast(x_train, tf.float32) / 255.0 # Normalize pixel values\n",
        "x_test = tf.cast(x_test, tf.float32) / 255.0"
      ],
      "metadata": {
        "id": "Tv0fIeoW0ICD"
      },
      "execution_count": 3,
      "outputs": []
    },
    {
      "cell_type": "markdown",
      "source": [
        "3. **One-hot encode the labels :** Convert the class labels (digits 0–9) into one-hot encoded vectors."
      ],
      "metadata": {
        "id": "Md9yxeil1JSr"
      }
    },
    {
      "cell_type": "code",
      "source": [
        "y_train = tf.one_hot(y_train, depth=10)  # One-hot encode labels\n",
        "y_test = tf.one_hot(y_test, depth=10)"
      ],
      "metadata": {
        "id": "xz28rAnA1AoX"
      },
      "execution_count": 4,
      "outputs": []
    },
    {
      "cell_type": "markdown",
      "source": [
        "4. **Build the model :** Create a model with a Flatten layer to convert each image to a vector, a dense layer with 128 neurons and ReLU activation and an output Dense layer with 10 neurons and softmax activation."
      ],
      "metadata": {
        "id": "QE-Lsdps1kgx"
      }
    },
    {
      "cell_type": "code",
      "source": [
        "My_model = keras.Sequential([\n",
        "    keras.layers.Flatten(input_shape=(28, 28)),\n",
        "    keras.layers.Dense(units=128, activation='relu'),                    # Hidden layer : A layer with 128 neurons and reLU activation.\n",
        "    keras.layers.Dense(units=10, activation='softmax')                   # Output layer :  Outputs 10 probabilities (one for each class).\n",
        "])"
      ],
      "metadata": {
        "colab": {
          "base_uri": "https://localhost:8080/"
        },
        "id": "nu9hmrFv1h3t",
        "outputId": "ddd18d1d-10e4-4099-9d73-45402d3b2fa8"
      },
      "execution_count": 5,
      "outputs": [
        {
          "output_type": "stream",
          "name": "stderr",
          "text": [
            "/usr/local/lib/python3.11/dist-packages/keras/src/layers/reshaping/flatten.py:37: UserWarning: Do not pass an `input_shape`/`input_dim` argument to a layer. When using Sequential models, prefer using an `Input(shape)` object as the first layer in the model instead.\n",
            "  super().__init__(**kwargs)\n"
          ]
        }
      ]
    },
    {
      "cell_type": "markdown",
      "source": [
        "5. **Compile the model using the following settings:**\n",
        "\n",
        "**Optimizer:** ‘adam’\n",
        "\n",
        "**Loss:** ‘categorical_crossentropy’\n",
        "\n",
        "**Metric:** ‘accuracy’"
      ],
      "metadata": {
        "id": "hp3Y4kRn3IqE"
      }
    },
    {
      "cell_type": "code",
      "source": [
        "My_model.compile(optimizer='adam',\n",
        "              loss=tf.losses.CategoricalCrossentropy(from_logits=False),\n",
        "              metrics=['accuracy'])"
      ],
      "metadata": {
        "id": "FUxz0zIo3H0L"
      },
      "execution_count": 6,
      "outputs": []
    },
    {
      "cell_type": "markdown",
      "source": [
        "6. **Fit the model on the training data**"
      ],
      "metadata": {
        "id": "yZVluUj7368J"
      }
    },
    {
      "cell_type": "code",
      "source": [
        "My_model.fit(\n",
        "    x_train, y_train,\n",
        "    epochs=5,\n",
        "    batch_size=32,\n",
        "    validation_data=(x_test, y_test)\n",
        ")"
      ],
      "metadata": {
        "colab": {
          "base_uri": "https://localhost:8080/"
        },
        "id": "i_bAmNg634up",
        "outputId": "f84fdc8e-0537-41b0-eee8-e8b455184841"
      },
      "execution_count": 7,
      "outputs": [
        {
          "output_type": "stream",
          "name": "stdout",
          "text": [
            "Epoch 1/5\n",
            "\u001b[1m1875/1875\u001b[0m \u001b[32m━━━━━━━━━━━━━━━━━━━━\u001b[0m\u001b[37m\u001b[0m \u001b[1m9s\u001b[0m 4ms/step - accuracy: 0.8805 - loss: 0.4269 - val_accuracy: 0.9577 - val_loss: 0.1487\n",
            "Epoch 2/5\n",
            "\u001b[1m1875/1875\u001b[0m \u001b[32m━━━━━━━━━━━━━━━━━━━━\u001b[0m\u001b[37m\u001b[0m \u001b[1m7s\u001b[0m 4ms/step - accuracy: 0.9636 - loss: 0.1208 - val_accuracy: 0.9688 - val_loss: 0.0973\n",
            "Epoch 3/5\n",
            "\u001b[1m1875/1875\u001b[0m \u001b[32m━━━━━━━━━━━━━━━━━━━━\u001b[0m\u001b[37m\u001b[0m \u001b[1m8s\u001b[0m 4ms/step - accuracy: 0.9755 - loss: 0.0794 - val_accuracy: 0.9754 - val_loss: 0.0842\n",
            "Epoch 4/5\n",
            "\u001b[1m1875/1875\u001b[0m \u001b[32m━━━━━━━━━━━━━━━━━━━━\u001b[0m\u001b[37m\u001b[0m \u001b[1m8s\u001b[0m 4ms/step - accuracy: 0.9833 - loss: 0.0552 - val_accuracy: 0.9728 - val_loss: 0.0860\n",
            "Epoch 5/5\n",
            "\u001b[1m1875/1875\u001b[0m \u001b[32m━━━━━━━━━━━━━━━━━━━━\u001b[0m\u001b[37m\u001b[0m \u001b[1m9s\u001b[0m 4ms/step - accuracy: 0.9871 - loss: 0.0418 - val_accuracy: 0.9774 - val_loss: 0.0739\n"
          ]
        },
        {
          "output_type": "execute_result",
          "data": {
            "text/plain": [
              "<keras.src.callbacks.history.History at 0x7b9626d0f110>"
            ]
          },
          "metadata": {},
          "execution_count": 7
        }
      ]
    },
    {
      "cell_type": "markdown",
      "source": [
        "7. **Make predictions :** Use the trained model to predict the labels of the test images"
      ],
      "metadata": {
        "id": "yr0c6QJa5Aww"
      }
    },
    {
      "cell_type": "code",
      "source": [
        "predictions = My_model.predict(x_test)\n",
        "print(predictions)"
      ],
      "metadata": {
        "colab": {
          "base_uri": "https://localhost:8080/"
        },
        "id": "QwotfmWz4WhE",
        "outputId": "e3e630ea-8444-4eea-b324-4b579153f89d"
      },
      "execution_count": 8,
      "outputs": [
        {
          "output_type": "stream",
          "name": "stdout",
          "text": [
            "\u001b[1m313/313\u001b[0m \u001b[32m━━━━━━━━━━━━━━━━━━━━\u001b[0m\u001b[37m\u001b[0m \u001b[1m1s\u001b[0m 2ms/step\n",
            "[[2.17878849e-07 9.45506962e-09 1.66455027e-06 ... 9.99859095e-01\n",
            "  1.20697081e-07 3.82306571e-05]\n",
            " [2.77293050e-10 2.23230920e-04 9.99775887e-01 ... 3.18743491e-12\n",
            "  6.36208028e-07 1.10994668e-11]\n",
            " [2.67315068e-06 9.95984256e-01 5.03508025e-04 ... 2.02429737e-03\n",
            "  1.08395680e-03 3.78577511e-06]\n",
            " ...\n",
            " [1.27878385e-14 6.76461231e-12 1.19322813e-12 ... 2.93210746e-07\n",
            "  5.06394704e-09 8.50802608e-05]\n",
            " [3.73650586e-08 1.10038860e-10 9.13172836e-12 ... 1.55531776e-09\n",
            "  1.10724919e-04 1.10639975e-09]\n",
            " [2.12975706e-07 4.62275912e-10 6.40011111e-09 ... 1.00958055e-12\n",
            "  9.69342162e-10 9.30348784e-11]]\n"
          ]
        }
      ]
    },
    {
      "cell_type": "markdown",
      "source": [
        "8. **Visualize some predictions :** Display a few test images alongside the predicted labels using Matplotlib\n"
      ],
      "metadata": {
        "id": "QftqzVtq5vjG"
      }
    },
    {
      "cell_type": "code",
      "source": [
        "# Get the predicted number (class with max probability)\n",
        "predicted_labels = np.argmax(predictions, axis=1)\n",
        "\n",
        "# Show 10 test images + their prediction\n",
        "plt.figure(figsize=(12, 6))\n",
        "\n",
        "for i in range(10):\n",
        "    plt.subplot(2, 5, i + 1)\n",
        "    plt.imshow(x_test[i], cmap='gray')\n",
        "    plt.title(f\"Predicted: {predicted_labels[i]}\")\n",
        "    plt.axis('off')\n",
        "\n",
        "plt.tight_layout()\n",
        "plt.show()\n"
      ],
      "metadata": {
        "colab": {
          "base_uri": "https://localhost:8080/",
          "height": 545
        },
        "id": "LWyaDgr85pdZ",
        "outputId": "2baf2a07-a07c-4e41-cd73-b83d98d82f70"
      },
      "execution_count": 9,
      "outputs": [
        {
          "output_type": "display_data",
          "data": {
            "text/plain": [
              "<Figure size 1200x600 with 10 Axes>"
            ],
            "image/png": "[encoded data removed]"
          },
          "metadata": {}
        }
      ]
    }
  ]
}