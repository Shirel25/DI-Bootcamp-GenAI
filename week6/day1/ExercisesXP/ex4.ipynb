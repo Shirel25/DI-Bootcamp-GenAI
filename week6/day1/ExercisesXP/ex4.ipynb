{
  "nbformat": 4,
  "nbformat_minor": 0,
  "metadata": {
    "colab": {
      "provenance": []
    },
    "kernelspec": {
      "name": "python3",
      "display_name": "Python 3"
    },
    "language_info": {
      "name": "python"
    }
  },
  "cells": [
    {
      "cell_type": "markdown",
      "source": [
        "🌟 **Exercise 4** : Forward Propagation Calculation\n",
        "\n",
        "In this exercise, you will manually compute the forward propagation of a simple neural network that predicts house prices based on:\n",
        "\n",
        "Square Footage (x₁)\n",
        "\n",
        "Number of Bedrooms (x₂)"
      ],
      "metadata": {
        "id": "l0XsrTkauZQj"
      }
    },
    {
      "cell_type": "code",
      "source": [
        "# We will calculate the output using the following given values:\n",
        "\n",
        "# Input Values:\n",
        "#     x₁ = 2000 (Square Footage)\n",
        "#     x₂ = 3 (Number of Bedrooms)\n",
        "# Initial Weights:\n",
        "#     w₁ = 0.5 (Weight for Square Footage)\n",
        "#     w₂ = 0.7 (Weight for Bedrooms)\n",
        "# Bias: b = 50,000\n",
        "# Activation Function: ReLU (Rectified Linear Unit)"
      ],
      "metadata": {
        "id": "StDQTyG4vGin"
      },
      "execution_count": 1,
      "outputs": []
    },
    {
      "cell_type": "markdown",
      "source": [
        "1. **Calculate the output value “z” before activation.**"
      ],
      "metadata": {
        "id": "1BUyWkCeum8J"
      }
    },
    {
      "cell_type": "code",
      "execution_count": 2,
      "metadata": {
        "id": "QVBPk0N9uU4Z"
      },
      "outputs": [],
      "source": [
        "x1 = 2000   # square footage\n",
        "x2 = 3      # nb of bedrooms\n",
        "\n",
        "# Initial weight\n",
        "w1 = 0.5\n",
        "w2 = 0.7\n",
        "\n",
        "# Bias\n",
        "b = 50000\n",
        "\n",
        "# Calculate the output value 'z' before activation\n",
        "z = x1 * w1 + x2 * w2 + b"
      ]
    },
    {
      "cell_type": "markdown",
      "source": [
        "2. **Apply the ReLU function to compute the final prediction.**"
      ],
      "metadata": {
        "id": "b1h02YdBwLFu"
      }
    },
    {
      "cell_type": "code",
      "source": [
        "reLU = max(0, z)\n",
        "print(f\"The final prediction is: {reLU} $\")"
      ],
      "metadata": {
        "colab": {
          "base_uri": "https://localhost:8080/"
        },
        "id": "sNp8YQBFwHaE",
        "outputId": "649f668c-6adc-4082-8905-a440720f4ef3"
      },
      "execution_count": 3,
      "outputs": [
        {
          "output_type": "stream",
          "name": "stdout",
          "text": [
            "The final prediction is: 51002.1 $\n"
          ]
        }
      ]
    },
    {
      "cell_type": "markdown",
      "source": [
        "3. **Interpret the result: What is the predicted house price?**\n"
      ],
      "metadata": {
        "id": "ACsP-zmAw-f4"
      }
    },
    {
      "cell_type": "markdown",
      "source": [
        "The ReLU activation function returns the value of the weighted sum if it is positive, otherwise it returns 0.\n",
        "\n",
        "In this case, the result is 51,002.10, which means the predicted house price is $51,002.10."
      ],
      "metadata": {
        "id": "kLR3LKwAxCw_"
      }
    }
  ]
}