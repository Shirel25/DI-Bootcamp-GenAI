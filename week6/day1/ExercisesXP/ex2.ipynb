{
  "nbformat": 4,
  "nbformat_minor": 0,
  "metadata": {
    "colab": {
      "provenance": []
    },
    "kernelspec": {
      "name": "python3",
      "display_name": "Python 3"
    },
    "language_info": {
      "name": "python"
    }
  },
  "cells": [
    {
      "cell_type": "markdown",
      "source": [
        "🌟 **Exercise 2** : Building a Simple Perceptron Decision System"
      ],
      "metadata": {
        "id": "YEMa5xrTzx5o"
      }
    },
    {
      "cell_type": "markdown",
      "source": [
        "You will manually create a simple perceptron-based decision system to determine whether you should go outside based on two inputs:\n",
        "\n",
        "Temperature (°F)\n",
        "Rainy (Yes = 1, No = 0)\n",
        "You will assign weights, compute the weighted sum, apply an activation function, and determine the final decision.\n",
        "\n",
        "Temperature weight = 0.6\n",
        "Rain weight = 0.4\n",
        "Bias = 2\n",
        "Compute the weighted sum using the formula:\n",
        "\n",
        "Weighted Sum=(Temperature×0.6)+(Rain×0.4)+Bias\n",
        "Weighted Sum=(Temperature×0.6)+(Rain×0.4)+Bias\n",
        "Apply a Step Activation Function:\n",
        "\n",
        "If Weighted Sum > 20, output 1 (Yes, go outside)\n",
        "If Weighted Sum ≤ 20, output 0 (No, stay inside)"
      ],
      "metadata": {
        "id": "Y3gnAu5az5rQ"
      }
    },
    {
      "cell_type": "markdown",
      "source": [
        "### **1. Calculate the output for the following conditions:**"
      ],
      "metadata": {
        "id": "xKLktcLp3hMP"
      }
    },
    {
      "cell_type": "markdown",
      "source": [
        "**Case 1: Temperature = 70°F, Rain = 0 (No)**"
      ],
      "metadata": {
        "id": "oLVmeDp0z-7F"
      }
    },
    {
      "cell_type": "code",
      "execution_count": 1,
      "metadata": {
        "colab": {
          "base_uri": "https://localhost:8080/"
        },
        "id": "pI7JwRdUzgGl",
        "outputId": "a960947b-f136-488e-f056-0dcd3469b547"
      },
      "outputs": [
        {
          "output_type": "stream",
          "name": "stdout",
          "text": [
            "44.0\n",
            "Yes, go outside\n"
          ]
        }
      ],
      "source": [
        "temp = 70\n",
        "rain = 0\n",
        "\n",
        "temp_weight = 0.6\n",
        "rain_weight = 0.4\n",
        "bias = 2\n",
        "\n",
        "# Compute the weighted sum\n",
        "weighted_sum = (temp * temp_weight) + (rain * rain_weight) + bias\n",
        "print(weighted_sum)\n",
        "\n",
        "# Activation function\n",
        "if weighted_sum > 20:\n",
        "    print(\"Yes, go outside\")\n",
        "else:\n",
        "    print(\"No, stay inside\")"
      ]
    },
    {
      "cell_type": "markdown",
      "source": [
        "**Case 2: Temperature = 50°F, Rain = 1 (Yes)**"
      ],
      "metadata": {
        "id": "YFeGrGVA22z-"
      }
    },
    {
      "cell_type": "code",
      "source": [
        "temp = 50\n",
        "rain = 1\n",
        "\n",
        "temp_weight = 0.6\n",
        "rain_weight = 0.4\n",
        "bias = 2\n",
        "\n",
        "# Compute the weighted sum\n",
        "weighted_sum = (temp * temp_weight) + (rain * rain_weight) + bias\n",
        "print(weighted_sum)\n",
        "\n",
        "# Activation function\n",
        "if weighted_sum > 20:\n",
        "    print(\"Yes, go outside\")\n",
        "else:\n",
        "    print(\"No, stay inside\")"
      ],
      "metadata": {
        "colab": {
          "base_uri": "https://localhost:8080/"
        },
        "id": "App9Z8KT2Z9W",
        "outputId": "21067c38-8663-47f3-f70c-6ff2fce1ebc3"
      },
      "execution_count": 2,
      "outputs": [
        {
          "output_type": "stream",
          "name": "stdout",
          "text": [
            "32.4\n",
            "Yes, go outside\n"
          ]
        }
      ]
    },
    {
      "cell_type": "markdown",
      "source": [
        "### **2. Interpret the results: Did the perceptron suggest going outside in both cases? Why or why not?**"
      ],
      "metadata": {
        "id": "K-7Uv4D13Xd6"
      }
    },
    {
      "cell_type": "markdown",
      "source": [
        "Yes, the perceptron suggests going outside in both cases because the decision rule is based solely on whether the weighted sum is greater than 20. In both scenarios, even in case 2 where it is raining, the weighted sum (32.4) is still above the threshold. Therefore, the perceptron outputs 1, meaning \"yes, go outside.\""
      ],
      "metadata": {
        "id": "2ETvDlfz4wFl"
      }
    }
  ]
}