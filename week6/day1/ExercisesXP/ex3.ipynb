{
  "nbformat": 4,
  "nbformat_minor": 0,
  "metadata": {
    "colab": {
      "provenance": []
    },
    "kernelspec": {
      "name": "python3",
      "display_name": "Python 3"
    },
    "language_info": {
      "name": "python"
    }
  },
  "cells": [
    {
      "cell_type": "markdown",
      "source": [
        "🌟 **Exercise 3** : Building a Simple Neural Network with TensorFlow/Keras"
      ],
      "metadata": {
        "id": "IKx3PgI06kB9"
      }
    },
    {
      "cell_type": "markdown",
      "source": [
        "Build a simple neural network using TensorFlow/Keras to classify handwritten digits from the MNIST dataset. The network should have:\n",
        "\n",
        "One input layer.\n",
        "\n",
        "One hidden layer with 128 neurons and ReLU activation.\n",
        "\n",
        "One output layer with 10 neurons (for 10 classes) and softmax activation."
      ],
      "metadata": {
        "id": "W6Kld2qt6sAl"
      }
    },
    {
      "cell_type": "markdown",
      "source": [
        "1. **Import TensorFlow and other necessary modules such as layers, models, and utility functions from tensorflow.keras**"
      ],
      "metadata": {
        "id": "IrE6SRI_66Y-"
      }
    },
    {
      "cell_type": "code",
      "execution_count": 1,
      "metadata": {
        "id": "H5Liud5e6gM8"
      },
      "outputs": [],
      "source": [
        "import tensorflow as tf\n",
        "from tensorflow import keras"
      ]
    },
    {
      "cell_type": "markdown",
      "source": [
        "2. **Load the MNIST Dataset**"
      ],
      "metadata": {
        "id": "WBvtc7nc7Pyu"
      }
    },
    {
      "cell_type": "code",
      "source": [
        "(x_train_data, y_train_data), (x_val_data, y_val_data) = keras.datasets.mnist.load_data()"
      ],
      "metadata": {
        "id": "ejqYLuo67HhN"
      },
      "execution_count": 2,
      "outputs": []
    },
    {
      "cell_type": "markdown",
      "source": [
        "3. **Normalize the Data by scaling the pixel values of the images to the range [0, 1] by dividing by 255.0**"
      ],
      "metadata": {
        "id": "dXgRWnlY7rTB"
      }
    },
    {
      "cell_type": "code",
      "source": [
        "x_train = tf.cast(x_train_data, tf.float32) / 255.0 # Normalize pixel values\n",
        "x_val = tf.cast(x_val_data, tf.float32) / 255.0"
      ],
      "metadata": {
        "id": "VLYjh4X_7fSs"
      },
      "execution_count": 3,
      "outputs": []
    },
    {
      "cell_type": "markdown",
      "source": [
        "4. **One-Hot Encode the Labels by converting the digit labels (0–9) into one-hot encoded vectors**"
      ],
      "metadata": {
        "id": "emtoy1um8BmE"
      }
    },
    {
      "cell_type": "code",
      "source": [
        "y_train = tf.one_hot(y_train_data, depth=10)  # One-hot encode labels\n",
        "y_val = tf.one_hot(y_val_data, depth=10)"
      ],
      "metadata": {
        "id": "DygNPmAo7-n3"
      },
      "execution_count": 4,
      "outputs": []
    },
    {
      "cell_type": "markdown",
      "source": [
        "5. **To build the Neural Network Model, create a sequential model with the following architecture:**\n",
        "\n",
        "A Flatten layer to convert each 28x28 image into a 1D vector.\n",
        "\n",
        "A Dense hidden layer with 128 neurons and ReLU activation.\n",
        "\n",
        "An output Dense layer with 10 neurons and softmax activation (for the 10 classes)."
      ],
      "metadata": {
        "id": "2TzEt14Z8lvr"
      }
    },
    {
      "cell_type": "code",
      "source": [
        "My_model = keras.Sequential([\n",
        "    keras.layers.Reshape(target_shape=(28 * 28,), input_shape=(28, 28)),  # Flatten the input\n",
        "    # keras.layers.Flatten(input_shape=(28, 28))    # same\n",
        "    keras.layers.Dense(units=128, activation='relu'),                    # Hidden layer : A layer with 128 neurons and reLU activation.\n",
        "    keras.layers.Dense(units=10, activation='softmax')                   # Output layer :  Outputs 10 probabilities (one for each class).\n",
        "])"
      ],
      "metadata": {
        "colab": {
          "base_uri": "https://localhost:8080/"
        },
        "id": "UhR4zjrC8Ybq",
        "outputId": "cae43988-8c72-4206-ac95-bf91849eb2ec"
      },
      "execution_count": 5,
      "outputs": [
        {
          "output_type": "stream",
          "name": "stderr",
          "text": [
            "/usr/local/lib/python3.11/dist-packages/keras/src/layers/reshaping/reshape.py:39: UserWarning: Do not pass an `input_shape`/`input_dim` argument to a layer. When using Sequential models, prefer using an `Input(shape)` object as the first layer in the model instead.\n",
            "  super().__init__(**kwargs)\n"
          ]
        }
      ]
    },
    {
      "cell_type": "markdown",
      "source": [
        "6. **Compile the model with the following settings:**\n",
        "\n",
        "Optimizer: ‘adam’\n",
        "\n",
        "Loss function: ‘categorical_crossentropy’\n",
        "\n",
        "Metrics: [‘accuracy’]"
      ],
      "metadata": {
        "id": "1LQg57nrGcxO"
      }
    },
    {
      "cell_type": "code",
      "source": [
        "My_model.compile(optimizer='adam',\n",
        "              loss=tf.losses.CategoricalCrossentropy(from_logits=False),\n",
        "              metrics=['accuracy'])"
      ],
      "metadata": {
        "id": "HuQyLpQ7GZPj"
      },
      "execution_count": 6,
      "outputs": []
    },
    {
      "cell_type": "markdown",
      "source": [
        "7. **Train the Model and Evaluate it on the test dataset.**"
      ],
      "metadata": {
        "id": "rYGNUhwxGooX"
      }
    },
    {
      "cell_type": "code",
      "source": [
        "# Train the model\n",
        "My_model.fit(x_train, y_train, epochs=5, batch_size=32, validation_data=(x_val, y_val))\n",
        "\n",
        "# Evaluer the model on validation data\n",
        "My_model.evaluate(x_val, y_val)\n"
      ],
      "metadata": {
        "colab": {
          "base_uri": "https://localhost:8080/"
        },
        "id": "ZORRjCrAGlrT",
        "outputId": "d5f6910a-b4db-404f-a357-6fc6985d9438"
      },
      "execution_count": 7,
      "outputs": [
        {
          "output_type": "stream",
          "name": "stdout",
          "text": [
            "Epoch 1/5\n",
            "\u001b[1m1875/1875\u001b[0m \u001b[32m━━━━━━━━━━━━━━━━━━━━\u001b[0m\u001b[37m\u001b[0m \u001b[1m8s\u001b[0m 4ms/step - accuracy: 0.8764 - loss: 0.4364 - val_accuracy: 0.9586 - val_loss: 0.1381\n",
            "Epoch 2/5\n",
            "\u001b[1m1875/1875\u001b[0m \u001b[32m━━━━━━━━━━━━━━━━━━━━\u001b[0m\u001b[37m\u001b[0m \u001b[1m7s\u001b[0m 2ms/step - accuracy: 0.9653 - loss: 0.1214 - val_accuracy: 0.9686 - val_loss: 0.0971\n",
            "Epoch 3/5\n",
            "\u001b[1m1875/1875\u001b[0m \u001b[32m━━━━━━━━━━━━━━━━━━━━\u001b[0m\u001b[37m\u001b[0m \u001b[1m5s\u001b[0m 2ms/step - accuracy: 0.9764 - loss: 0.0811 - val_accuracy: 0.9730 - val_loss: 0.0860\n",
            "Epoch 4/5\n",
            "\u001b[1m1875/1875\u001b[0m \u001b[32m━━━━━━━━━━━━━━━━━━━━\u001b[0m\u001b[37m\u001b[0m \u001b[1m5s\u001b[0m 2ms/step - accuracy: 0.9829 - loss: 0.0573 - val_accuracy: 0.9757 - val_loss: 0.0840\n",
            "Epoch 5/5\n",
            "\u001b[1m1875/1875\u001b[0m \u001b[32m━━━━━━━━━━━━━━━━━━━━\u001b[0m\u001b[37m\u001b[0m \u001b[1m6s\u001b[0m 2ms/step - accuracy: 0.9867 - loss: 0.0434 - val_accuracy: 0.9764 - val_loss: 0.0775\n",
            "\u001b[1m313/313\u001b[0m \u001b[32m━━━━━━━━━━━━━━━━━━━━\u001b[0m\u001b[37m\u001b[0m \u001b[1m0s\u001b[0m 1ms/step - accuracy: 0.9737 - loss: 0.0908\n"
          ]
        },
        {
          "output_type": "execute_result",
          "data": {
            "text/plain": [
              "[0.07748398184776306, 0.9764000177383423]"
            ]
          },
          "metadata": {},
          "execution_count": 7
        }
      ]
    }
  ]
}